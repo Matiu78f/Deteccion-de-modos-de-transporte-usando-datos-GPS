{
 "cells": [
  {
   "cell_type": "code",
   "execution_count": 1,
   "metadata": {},
   "outputs": [],
   "source": [
    "import csv  # Importa el módulo csv\n",
    "import pandas as pd\n",
    "from Libreria.cargar_configbd import cargar_configbd\n",
    "from Libreria.cargar_mes_a_procesar import cargar_mes_a_procesar"
   ]
  },
  {
   "cell_type": "code",
   "execution_count": 2,
   "metadata": {},
   "outputs": [],
   "source": [
    "# Crear un cursor para ejecutar consultas\n",
    "conn = cargar_configbd.conectar_base_datos('conf_bd.txt')\n",
    "# Crear un cursor para ejecutar consultas\n",
    "cur = conn.cursor()"
   ]
  },
  {
   "cell_type": "code",
   "execution_count": 21,
   "metadata": {},
   "outputs": [
    {
     "name": "stdout",
     "output_type": "stream",
     "text": [
      "mayo2024\n"
     ]
    }
   ],
   "source": [
    "mes, año = cargar_mes_a_procesar.leer_csv_en_lista('mes_a_procesar.csv')\n",
    "mes = 'mayo'\n",
    "año = 2024\n",
    "print(f\"{mes}{año}\")"
   ]
  },
  {
   "cell_type": "code",
   "execution_count": 23,
   "metadata": {},
   "outputs": [],
   "source": [
    "#----------------------------TRIPSSEPT2023"
   ]
  },
  {
   "cell_type": "code",
   "execution_count": 6,
   "metadata": {},
   "outputs": [],
   "source": [
    "# Crear tabla para insertar TRIPSSEPT\n",
    "consultas_sql = [f\"DROP TABLE IF EXISTS trips{mes}{año};\",\n",
    "    f\"\"\"CREATE TABLE trips{mes}{año} (\n",
    "\ttripid INTEGER,\n",
    "    uid VARCHAR(50),\n",
    "    departure TIMESTAMP,\n",
    "    arrival TIMESTAMP,\n",
    "    travel_time float,\n",
    "    travel_distance float\n",
    ");\n",
    "    \"\"\"]\n",
    "\n",
    "for consulta_sql in consultas_sql:\n",
    "    cur.execute(consulta_sql)\n",
    "# Confirma los cambios en la base de datos\n",
    "conn.commit()"
   ]
  },
  {
   "cell_type": "code",
   "execution_count": 10,
   "metadata": {},
   "outputs": [],
   "source": [
    "# Path al archivo\n",
    "trips = f\"Datos/UDA/trips{mes}{año}.csv\"\n",
    "\n",
    "# Read CSV viajes\n",
    "df_trips = pd.read_csv(trips, quoting=csv.QUOTE_NONNUMERIC, sep=',', low_memory=False)"
   ]
  },
  {
   "cell_type": "code",
   "execution_count": 11,
   "metadata": {},
   "outputs": [],
   "source": [
    "# Formatear fechas arrival y departure\n",
    "df_trips['departure'] = df_trips['departure'].str.split('.', expand=True).iloc[:, 0].str.split('Z', expand=True).iloc[:, 0].str.replace('T', ' ', regex=False)\n",
    "df_trips['arrival'] = df_trips['arrival'].str.split('.', expand=True).iloc[:, 0].str.split('Z', expand=True).iloc[:, 0].str.replace('T', ' ', regex=False)"
   ]
  },
  {
   "cell_type": "code",
   "execution_count": 12,
   "metadata": {},
   "outputs": [
    {
     "name": "stdout",
     "output_type": "stream",
     "text": [
      "n_puntos: 48576\n",
      "Progreso: 48576\r"
     ]
    }
   ],
   "source": [
    "# Tabla para insertar registros\n",
    "nombre_tabla = f\"trips{mes}{año}\"\n",
    "coumnas_tabla = ['tripid', 'uid', 'departure', 'arrival', 'travel_time', 'travel_distance']\n",
    "marcadores = ', '.join(['%s' for _ in range(len(coumnas_tabla))])\n",
    "\n",
    "\n",
    "# Recorre el DataFrame y inserta cada fila en la tabla\n",
    "print(f\"n_puntos: {len(df_trips)}\")\n",
    "prog = 0\n",
    "for index, row in df_trips.iterrows():\n",
    "    prog += 1\n",
    "    print(f\"Progreso: {prog}\", end=\"\\r\")\n",
    "    #Construye la consulta SQL con parámetros\n",
    "    consulta_sql = f\"INSERT INTO {nombre_tabla} VALUES ({marcadores})\"\n",
    "    # Ejecuta la consulta SQL con los valores de la fila actual\n",
    "    cur.execute(consulta_sql, tuple(row[coumnas_tabla]))\n",
    "    \n",
    "# Confirma los cambios en la base de datos\n",
    "conn.commit()"
   ]
  },
  {
   "cell_type": "code",
   "execution_count": null,
   "metadata": {},
   "outputs": [],
   "source": [
    "#----------------------------PUNTOS"
   ]
  },
  {
   "cell_type": "code",
   "execution_count": 13,
   "metadata": {},
   "outputs": [],
   "source": [
    "# Crear tabla para insertar TRIPSSEPT\n",
    "consultas_sql = [f\"DROP TABLE IF EXISTS puntos{mes}{año};\",\n",
    "    f\"\"\"CREATE TABLE IF NOT EXISTS puntos{mes}{año} (\n",
    "    company_token VARCHAR(255),\n",
    "    latitude FLOAT,\n",
    "    longitude FLOAT,\n",
    "    altitude FLOAT,\n",
    "    recorded_at TIMESTAMP\n",
    "    );\n",
    "    \"\"\"]\n",
    "\n",
    "for consulta_sql in consultas_sql:\n",
    "    cur.execute(consulta_sql)\n",
    "# Confirma los cambios en la base de datos\n",
    "conn.commit()"
   ]
  },
  {
   "cell_type": "code",
   "execution_count": 16,
   "metadata": {},
   "outputs": [],
   "source": [
    "# Path al archivo\n",
    "points = f\"Datos/UDA/puntos{mes}{año}.csv\"\n",
    "\n",
    "# Lee el archivo CSV con Pandas\n",
    "df_points = pd.read_csv(points, quoting=csv.QUOTE_NONNUMERIC, sep=',', low_memory=False)\n"
   ]
  },
  {
   "cell_type": "code",
   "execution_count": 17,
   "metadata": {},
   "outputs": [],
   "source": [
    "# Dividir la columna 'data' en varias columnas\n",
    "df_points['recorded_at'] = df_points['recorded_at'].str.split('.', expand=True).iloc[:, 0].str.split('Z', expand=True).iloc[:, 0].str.replace('T', ' ', regex=False)"
   ]
  },
  {
   "cell_type": "code",
   "execution_count": 18,
   "metadata": {},
   "outputs": [
    {
     "name": "stdout",
     "output_type": "stream",
     "text": [
      "n_puntos: 6143402\n",
      "Progreso: 6143402\r"
     ]
    }
   ],
   "source": [
    "\n",
    "# Tabla para insertar registros\n",
    "nombre_tabla = f\"puntos{mes}{año}\"\n",
    "columnas_tabla = ['company_token', 'latitude', 'longitude', 'altitude', 'recorded_at']\n",
    "marcadores = ', '.join(['%s' for _ in range(len(columnas_tabla))])\n",
    "\n",
    "# Recorre el DataFrame y inserta cada fila en la tabla\n",
    "print(f\"n_puntos: {len(df_points)}\")\n",
    "prog = 0\n",
    "for index, row in df_points.iterrows():\n",
    "    prog += 1\n",
    "    print(f\"Progreso: {prog}\", end=\"\\r\")\n",
    "    #Construye la consulta SQL con parámetros\n",
    "    consulta_sql = f\"INSERT INTO {nombre_tabla} VALUES ({marcadores})\"\n",
    "    # Ejecuta la consulta SQL con los valores de la fila actual\n",
    "    cur.execute(consulta_sql, tuple(row[columnas_tabla]))\n",
    "\n",
    "    conn.commit()\n",
    "\n",
    "cur.execute('''UPDATE puntossept2023\n",
    "SET recorded_at = DATE_TRUNC('second', recorded_at);''')\n",
    "        \n",
    "# Confirma los cambios en la base de datos\n",
    "conn.commit()"
   ]
  },
  {
   "cell_type": "code",
   "execution_count": null,
   "metadata": {},
   "outputs": [],
   "source": [
    "# ----------- UNIR DATOS TRIPS Y PUNTOS"
   ]
  },
  {
   "cell_type": "code",
   "execution_count": 19,
   "metadata": {},
   "outputs": [],
   "source": [
    "consulta_sql = f'''DROP TABLE if exists join_viajes_puntos_{mes}{año};\n",
    "                CREATE TABLE IF NOT EXISTS join_viajes_puntos_{mes}{año} AS\n",
    "                        SELECT v.tripid, v.uid, p.latitude, p.longitude, p.recorded_at\n",
    "                        FROM trips{mes}{año} v\n",
    "                        JOIN puntos{mes}{año} p ON v.uid = p.company_token\n",
    "                        WHERE p.recorded_at BETWEEN v.departure AND v.arrival;\n",
    "                '''\n",
    "\n",
    "cur.execute(consulta_sql)\n",
    "# Confirma los cambios en la base de datos\n",
    "conn.commit()"
   ]
  }
 ],
 "metadata": {
  "kernelspec": {
   "display_name": "Python 3",
   "language": "python",
   "name": "python3"
  },
  "language_info": {
   "codemirror_mode": {
    "name": "ipython",
    "version": 3
   },
   "file_extension": ".py",
   "mimetype": "text/x-python",
   "name": "python",
   "nbconvert_exporter": "python",
   "pygments_lexer": "ipython3",
   "version": "3.10.0"
  }
 },
 "nbformat": 4,
 "nbformat_minor": 2
}
