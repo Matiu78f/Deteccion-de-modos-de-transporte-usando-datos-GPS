{
 "cells": [
  {
   "cell_type": "code",
   "execution_count": 1,
   "metadata": {},
   "outputs": [],
   "source": [
    "from Libreria.cargar_configbd import cargar_configbd\n",
    "from Libreria.cargar_mes_a_procesar import cargar_mes_a_procesar\n",
    "\n",
    "import pandas as pd\n",
    "import numpy as np\n"
   ]
  },
  {
   "cell_type": "code",
   "execution_count": 2,
   "metadata": {},
   "outputs": [],
   "source": [
    "# Conectar a la base de datos PostgreSQL\n",
    "conn = cargar_configbd.conectar_base_datos('conf_bd.txt')\n",
    "cur = conn.cursor()"
   ]
  },
  {
   "cell_type": "code",
   "execution_count": 3,
   "metadata": {},
   "outputs": [
    {
     "name": "stdout",
     "output_type": "stream",
     "text": [
      "sept2023\n"
     ]
    }
   ],
   "source": [
    "mes, año = cargar_mes_a_procesar.leer_csv_en_lista('mes_a_procesar.csv')\n",
    "mes = 'sept'\n",
    "año = 2023\n",
    "print(f\"{mes}{año}\")"
   ]
  },
  {
   "cell_type": "code",
   "execution_count": 4,
   "metadata": {},
   "outputs": [
    {
     "data": {
      "text/plain": [
       "35864"
      ]
     },
     "execution_count": 4,
     "metadata": {},
     "output_type": "execute_result"
    }
   ],
   "source": [
    "# ---- Obtener los ids de los segmentos tras la segmentacion\n",
    "cur.execute(f\"SELECT DISTINCT tripid, segid, uid FROM segmentos_viajes_{mes}{año} order by uid\")\n",
    "rows = cur.fetchall()\n",
    "id_segmentos = rows.copy()\n",
    "len(id_segmentos)"
   ]
  },
  {
   "cell_type": "code",
   "execution_count": 5,
   "metadata": {},
   "outputs": [],
   "source": [
    "# -----Agregar columnas para caracteristicas nuevas\n",
    "consulta_sql = f'''DROP TABLE IF EXISTS estadisticos_segmentos_{mes}{año};\n",
    "                  CREATE TABLE estadisticos_segmentos_{mes}{año} (\n",
    "                      tripid INTEGER,\n",
    "                      segid INTEGER,\n",
    "                      uid VARCHAR(255),\n",
    "                      p25_speed FLOAT, \n",
    "                      p75_speed FLOAT,\n",
    "                      max_speed FLOAT,\n",
    "                      min_speed FLOAT,\n",
    "                      mean_speed FLOAT,\n",
    "                      median_speed FLOAT,\n",
    "                      var_speed FLOAT,\n",
    "                      p25_aceleration FLOAT, \n",
    "                      p75_aceleration FLOAT,\n",
    "                      max_aceleration FLOAT,\n",
    "                      min_aceleration FLOAT,\n",
    "                      mean_aceleration FLOAT,\n",
    "                      median_aceleration FLOAT,\n",
    "                      var_aceleration FLOAT,\n",
    "                      p25_bearing FLOAT, \n",
    "                      p75_bearing FLOAT,\n",
    "                      max_bearing FLOAT,\n",
    "                      min_bearing FLOAT,\n",
    "                      mean_bearing FLOAT,\n",
    "                      median_bearing FLOAT,\n",
    "                      var_bearing FLOAT,\n",
    "                      p25_time_stop FLOAT, \n",
    "                      p75_time_stop FLOAT,\n",
    "                      max_time_stop FLOAT,\n",
    "                      min_time_stop FLOAT,\n",
    "                      mean_time_stop FLOAT,\n",
    "                      median_time_stop FLOAT,\n",
    "                      var_time_stop FLOAT,\n",
    "                      stops INTEGER\n",
    "                  );\n",
    "                '''\n",
    "cur.execute(consulta_sql)\n",
    "cur.execute(f\"commit\")"
   ]
  },
  {
   "cell_type": "code",
   "execution_count": 6,
   "metadata": {},
   "outputs": [],
   "source": [
    "def tiempos_espera(df_puntos_modo, umbral_velocidad, tiempo_minimo_parada):\n",
    "    df_puntos_modo['recorded_at'] = pd.to_datetime(df_puntos_modo['recorded_at'])\n",
    "\n",
    "    # Ordenar los datos por el tiempo grabado\n",
    "    df_puntos_modo.sort_values('recorded_at', inplace=True)\n",
    "\n",
    "    # Calcular la diferencia de tiempo entre cada punto\n",
    "    df_puntos_modo['time_diff'] = df_puntos_modo['recorded_at'].diff().dt.total_seconds()\n",
    "\n",
    "    # Calcular la diferencia de distancia entre cada punto\n",
    "    df_puntos_modo['distance_diff'] = df_puntos_modo['distance'].diff()\n",
    "\n",
    "    # Calcular la velocidad entre cada punto\n",
    "    df_puntos_modo['speed'] = df_puntos_modo['distance_diff'] / df_puntos_modo['time_diff']\n",
    "\n",
    "    # Identificar los puntos de espera\n",
    "    wait_points = df_puntos_modo[(df_puntos_modo['speed'] < umbral_velocidad) & (df_puntos_modo['time_diff'] >= tiempo_minimo_parada)]\n",
    "\n",
    "    # Retornar los tiempos de espera\n",
    "    return wait_points['time_diff']"
   ]
  },
  {
   "cell_type": "code",
   "execution_count": 7,
   "metadata": {},
   "outputs": [
    {
     "name": "stdout",
     "output_type": "stream",
     "text": [
      "n_viajes: 35864\n",
      "Progreso: 35864\r"
     ]
    }
   ],
   "source": [
    "print(f\"n_viajes: {len(id_segmentos)}\")\n",
    "\n",
    "prog_anterior = 1 # En uno aun no precesa nada\n",
    "id_segmentos = id_segmentos[prog_anterior - 1:]\n",
    "prog = prog_anterior - 1\n",
    "for id_viaje in id_segmentos:\n",
    "    prog += 1\n",
    "    print(f\"Progreso: {prog}\", end=\"\\r\")\n",
    "    \n",
    "    # Obtener los ids de todos los segmentos de transporte\n",
    "    cur.execute(f\"SELECT * FROM segmentos_viajes_{mes}{año} where tripid='{id_viaje[0]}' and segid = '{id_viaje[1]}' and uid='{id_viaje[2]}' order by recorded_at\")\n",
    "    #print(id_viaje[0], id_viaje[1], id_viaje[2])\n",
    "    rows = cur.fetchall()\n",
    "    puntos_viaje = rows.copy()\n",
    "\n",
    "    df = pd.DataFrame(puntos_viaje, columns=[desc[0] for desc in cur.description])\n",
    "    if len(df) < 1:\n",
    "        continue\n",
    "\n",
    "    p25_speed, p75_speed = np.percentile(df['speed'], [25, 75])\n",
    "    max_speed = df['speed'].max()\n",
    "    min_speed = df['speed'].min()\n",
    "    mean_speed = df['speed'].mean()\n",
    "    median_speed = df['speed'].median()\n",
    "    var_speed = df['speed'].var()\n",
    "    #skewness_speed = df['speed'].skew()  # Asimetría\n",
    "    #kurtosis_speed = df['speed'].kurtosis()  # Curtosis\n",
    "\n",
    "    p25_aceleracion, p75_aceleracion = np.percentile(df['aceleration'], [25, 75])\n",
    "    max_aceleracion = df['aceleration'].max()\n",
    "    min_aceleracion= df['aceleration'].min()\n",
    "    mean_aceleration = df['aceleration'].mean()\n",
    "    median_aceleration = df['aceleration'].median()\n",
    "    var_aceleracion  = df['aceleration'].var()\n",
    "    #skewness_aceleration  = df['aceleration'].skew()  # Asimetría\n",
    "    #kurtosis_aceleration  = df['aceleration'].kurtosis()  # Curtosis\n",
    "\n",
    "    p25_bearing, p75_bearing = np.percentile(df['bearing'], [25, 75])\n",
    "    max_bearing = df['bearing'].max()\n",
    "    min_bearing = df['bearing'].min()\n",
    "    mean_bearing = df['bearing'].mean()\n",
    "    median_bearing = df['bearing'].median()\n",
    "    var_bearing  = df['bearing'].var()\n",
    "    #skewness_bearing  = df['bearing'].skew()  # Asimetría\n",
    "    #kurtosis_bearing  = df['bearing'].kurtosis()  # Curtosis\n",
    "    \n",
    "    t_paradas = tiempos_espera(df, umbral_velocidad=0.5, tiempo_minimo_parada=5)\n",
    "    if len(t_paradas) > 0:\n",
    "        p25_time_stop, p75_time_stop = np.percentile(t_paradas, [25, 75])\n",
    "        max_time_stop = np.max(t_paradas)\n",
    "        min_time_stop = np.min(t_paradas)\n",
    "        mean_time_stop = np.mean(t_paradas)\n",
    "        median_time_stop = np.median(t_paradas)\n",
    "        var_time_stop = np.var(t_paradas)\n",
    "    else:\n",
    "        p25_time_stop, p75_time_stop, max_time_stop, min_time_stop, mean_time_stop, median_time_stop, var_time_stop = (None, None, None, None, None, None, None)\n",
    "\n",
    "    stops = len(t_paradas)\n",
    "\n",
    "    datos = tuple(id_viaje) + (\n",
    "        p25_speed, p75_speed, max_speed, min_speed, mean_speed, median_speed, var_speed,\n",
    "        p25_aceleracion, p75_aceleracion, max_aceleracion, min_aceleracion, mean_aceleration, median_aceleration, var_aceleracion,\n",
    "        p25_bearing, p75_bearing, max_bearing, min_bearing, mean_bearing, median_bearing, var_bearing,\n",
    "        p25_time_stop, p75_time_stop, max_time_stop, min_time_stop, mean_time_stop, median_time_stop, var_time_stop,\n",
    "        stops\n",
    "    )\n",
    "\n",
    "    consulta_sql = \"\"\"\n",
    "    INSERT INTO {} VALUES (\n",
    "        %s, %s, %s, %s, %s, %s, %s, %s, %s, %s,\n",
    "        %s, %s, %s, %s, %s, %s, %s, %s, %s, %s,\n",
    "        %s, %s, %s, %s, %s, %s, %s, %s, %s, %s,\n",
    "        %s, %s\n",
    "    )\n",
    "    \"\"\".format(f'estadisticos_segmentos_{mes}{año}')\n",
    "\n",
    "    cur.execute(consulta_sql, datos)\n",
    "    conn.commit()"
   ]
  }
 ],
 "metadata": {
  "kernelspec": {
   "display_name": "Python 3",
   "language": "python",
   "name": "python3"
  },
  "language_info": {
   "codemirror_mode": {
    "name": "ipython",
    "version": 3
   },
   "file_extension": ".py",
   "mimetype": "text/x-python",
   "name": "python",
   "nbconvert_exporter": "python",
   "pygments_lexer": "ipython3",
   "version": "3.10.0"
  }
 },
 "nbformat": 4,
 "nbformat_minor": 2
}
