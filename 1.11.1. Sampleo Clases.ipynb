{
 "cells": [
  {
   "cell_type": "code",
   "execution_count": 1,
   "metadata": {},
   "outputs": [],
   "source": [
    "from Libreria.cargar_configbd import cargar_configbd\n",
    "from Libreria.cargar_mes_a_procesar import cargar_mes_a_procesar\n",
    "\n",
    "import numpy as np\n",
    "import pandas as pd\n",
    "from sklearn.metrics import pairwise_distances"
   ]
  },
  {
   "cell_type": "code",
   "execution_count": 2,
   "metadata": {},
   "outputs": [],
   "source": [
    "def k_centers_selection(df, k, random_state=42):\n",
    "    \"\"\"\n",
    "    Selecciona k muestras del conjunto de datos utilizando el algoritmo de K-Centers.\n",
    "    \n",
    "    Parameters:\n",
    "    df (pandas DataFrame): Conjunto de datos de entrada sin la columna de etiquetas.\n",
    "    k (int): Número de muestras a seleccionar.\n",
    "    random_state (int): Semilla para el generador de números aleatorios.\n",
    "    \n",
    "    Returns:\n",
    "    numpy array: Índices de las muestras seleccionadas.\n",
    "    \"\"\"\n",
    "    np.random.seed(random_state)  # Fijar la semilla aleatoria para obtener resultados reproducibles\n",
    "    data = df.values  # Convertir el DataFrame a un array numpy\n",
    "    n_samples = data.shape[0]\n",
    "    distances = pairwise_distances(data)\n",
    "    \n",
    "    # Inicializar el primer centro aleatoriamente\n",
    "    first_center = np.random.choice(n_samples)\n",
    "    centers = [first_center]\n",
    "    \n",
    "    for _ in range(1, k):\n",
    "        # Calcular la distancia mínima de cada punto a los centros actuales\n",
    "        min_distances = np.min(distances[:, centers], axis=1)\n",
    "        # Seleccionar el punto más lejano de los centros actuales\n",
    "        new_center = np.argmax(min_distances)\n",
    "        centers.append(new_center)\n",
    "    \n",
    "    return centers\n",
    "\n",
    "def select_representative_samples(df, label_column, k_per_class, columnas_sin_null, random_state=42):\n",
    "    \"\"\"\n",
    "    Selecciona muestras representativas de cada clase utilizando K-Centers.\n",
    "    \n",
    "    Parameters:\n",
    "    df (pandas DataFrame): Conjunto de datos de entrada con etiquetas.\n",
    "    label_column (str): Nombre de la columna de etiquetas.\n",
    "    k_per_class (int): Número de muestras a seleccionar por clase.\n",
    "    columnas_sin_null (list): Lista de columnas a utilizar para la selección.\n",
    "    random_state (int): Semilla para el generador de números aleatorios.\n",
    "    \n",
    "    Returns:\n",
    "    pandas DataFrame: DataFrame con las muestras seleccionadas.\n",
    "    \"\"\"\n",
    "    selected_indices = []\n",
    "    unique_labels = df[label_column].unique()\n",
    "    \n",
    "    for label in unique_labels:\n",
    "        subset = df[df[label_column] == label].drop(columns=[label_column])\n",
    "        selected = k_centers_selection(subset[columnas_sin_null].iloc[:, 3:], k_per_class, random_state)  # No van columnas id\n",
    "        selected_indices.extend(df[df[label_column] == label].iloc[selected].index)\n",
    "    \n",
    "    return df.loc[selected_indices]"
   ]
  },
  {
   "cell_type": "code",
   "execution_count": 3,
   "metadata": {},
   "outputs": [],
   "source": [
    "# Conectar a la base de datos PostgreSQL\n",
    "conn = cargar_configbd.conectar_base_datos('conf_bd.txt')\n",
    "cur = conn.cursor()"
   ]
  },
  {
   "cell_type": "code",
   "execution_count": 4,
   "metadata": {},
   "outputs": [
    {
     "name": "stdout",
     "output_type": "stream",
     "text": [
      "etiqueta\n",
      "AUTOMOVIL      680\n",
      "BICICLETA      110\n",
      "BUS            382\n",
      "CAMINATA     15117\n",
      "dtype: int64\n"
     ]
    }
   ],
   "source": [
    "segmentos_modos = []\n",
    "meses = ['sept2023', 'abr2024', 'mayo2024']\n",
    "meses = ['abr2024']\n",
    "meses = ['sept2023', 'abr2024'] # Bicicleta nuevos\n",
    "meses = ['sept2023']\n",
    "for mes in meses:\n",
    "    tablas_modos = [f'reglas_segmentos_caminata_{mes}', f'reglas_segmentos_bicicleta_{mes}', f'reglas_segmentos_bus_{mes}', f'reglas_segmentos_automovil_{mes}']\n",
    "\n",
    "    \n",
    "    for tabla_modos in tablas_modos:\n",
    "\n",
    "        if mes == 'sept2023' or (mes != 'abr2024' and ('automovil' in tabla_modos) or (mes != 'sept2023' and ('bicicleta' in tabla_modos))):\n",
    "            consulta_sql = f'''\n",
    "                            SELECT o.*\n",
    "                                FROM estadisticos_segmentos_{mes} o\n",
    "                                JOIN {tabla_modos} i\n",
    "                                ON o.tripid = i.tripid\n",
    "                                AND o.segid = i.segid\n",
    "                                AND o.uid = i.uid;\n",
    "                            '''\n",
    "        \n",
    "            cur.execute(consulta_sql)\n",
    "            df_modo = pd.DataFrame(cur.fetchall().copy(), columns=[desc[0] for desc in cur.description])\n",
    "            df_modo['etiqueta'] = tabla_modos.split(\"_\")[2].upper()\n",
    "\n",
    "            segmentos_modos.append(df_modo)\n",
    "\n",
    "# Concatenar los DataFrames de la lista en uno solo, ignorando los índices originales\n",
    "df_modos = pd.concat(segmentos_modos, ignore_index=True)\n",
    "\n",
    "num_elementos_por_grupo = df_modos.groupby('etiqueta').size()\n",
    "print(num_elementos_por_grupo)"
   ]
  },
  {
   "cell_type": "code",
   "execution_count": 5,
   "metadata": {},
   "outputs": [
    {
     "name": "stdout",
     "output_type": "stream",
     "text": [
      "etiqueta\n",
      "AUTOMOVIL      567\n",
      "BICICLETA      110\n",
      "BUS            382\n",
      "CAMINATA     14820\n",
      "dtype: int64\n"
     ]
    }
   ],
   "source": [
    "df_modos = df_modos.dropna()\n",
    "num_elementos_por_grupo = df_modos.groupby('etiqueta').size()\n",
    "print(num_elementos_por_grupo)"
   ]
  },
  {
   "cell_type": "code",
   "execution_count": 6,
   "metadata": {},
   "outputs": [
    {
     "name": "stdout",
     "output_type": "stream",
     "text": [
      "etiqueta\n",
      "AUTOMOVIL    110\n",
      "BICICLETA    110\n",
      "BUS          110\n",
      "CAMINATA     110\n",
      "dtype: int64\n"
     ]
    }
   ],
   "source": [
    "# ----Verificar qué columnas tienen valores nulos\n",
    "columnas_con_null = df_modos.columns[df_modos.isnull().any()]\n",
    "# Tomar solo columnas sin nulos\n",
    "columnas_sin_null = [col for col in df_modos.columns if col not in columnas_con_null]\n",
    "\n",
    "# ---- Submuestrear\n",
    "k_per_class = num_elementos_por_grupo.min()  # Número de muestras a seleccionar por clase\n",
    "#k_per_class = 140  # Número de muestras a seleccionar por clase\n",
    "selected_samples = select_representative_samples(df_modos, 'etiqueta', k_per_class, columnas_sin_null[:-1], random_state=42)\n",
    "num_elementos_por_grupo = selected_samples.groupby('etiqueta').size()\n",
    "print(num_elementos_por_grupo)"
   ]
  },
  {
   "cell_type": "code",
   "execution_count": 7,
   "metadata": {},
   "outputs": [
    {
     "name": "stderr",
     "output_type": "stream",
     "text": [
      "C:\\Users\\Mateo\\AppData\\Local\\Temp\\ipykernel_20580\\1001500720.py:53: FutureWarning: Series.__getitem__ treating keys as positions is deprecated. In a future version, integer keys will always be treated as labels (consistent with DataFrame behavior). To access a value by position, use `ser.iloc[pos]`\n",
      "  cur.execute(consulta_sql, row)\n"
     ]
    }
   ],
   "source": [
    "# ---- Agregar columnas para caracteristicas nuevas\n",
    "consulta_sql = f'''DROP TABLE IF EXISTS datos_uda_reglas;\n",
    "                  CREATE TABLE datos_uda_reglas (\n",
    "                      tripid INTEGER,\n",
    "                      segid INTEGER,\n",
    "                      uid VARCHAR(255),\n",
    "                      p25_speed FLOAT, \n",
    "                      p75_speed FLOAT,\n",
    "                      max_speed FLOAT,\n",
    "                      min_speed FLOAT,\n",
    "                      mean_speed FLOAT,\n",
    "                      median_speed FLOAT,\n",
    "                      var_speed FLOAT,\n",
    "                      p25_aceleration FLOAT, \n",
    "                      p75_aceleration FLOAT,\n",
    "                      max_aceleration FLOAT,\n",
    "                      min_aceleration FLOAT,\n",
    "                      mean_aceleration FLOAT,\n",
    "                      median_aceleration FLOAT,\n",
    "                      var_aceleration FLOAT,\n",
    "                      p25_bearing FLOAT, \n",
    "                      p75_bearing FLOAT,\n",
    "                      max_bearing FLOAT,\n",
    "                      min_bearing FLOAT,\n",
    "                      mean_bearing FLOAT,\n",
    "                      median_bearing FLOAT,\n",
    "                      var_bearing FLOAT,\n",
    "                      p25_time_stop FLOAT, \n",
    "                      p75_time_stop FLOAT,\n",
    "                      max_time_stop FLOAT,\n",
    "                      min_time_stop FLOAT,\n",
    "                      mean_time_stop FLOAT,\n",
    "                      median_time_stop FLOAT,\n",
    "                      var_time_stop FLOAT,\n",
    "                      stops INTEGER,\n",
    "                      etiqueta VARCHAR(50)\n",
    "                  );\n",
    "                '''\n",
    "cur.execute(consulta_sql)\n",
    "conn.commit()\n",
    "\n",
    "# ---- Guardar estadisticos de distribucion datos muestreados\n",
    "for idx, row in selected_samples.iterrows():\n",
    "    consulta_sql = \"\"\"\n",
    "    INSERT INTO {} VALUES (\n",
    "        %s, %s, %s, %s, %s, %s, %s, %s, %s, %s,\n",
    "        %s, %s, %s, %s, %s, %s, %s, %s, %s, %s,\n",
    "        %s, %s, %s, %s, %s, %s, %s, %s, %s, %s,\n",
    "        %s, %s, %s\n",
    "    )\n",
    "    \"\"\".format(f'datos_uda_reglas') # Una sola tabla para todos los samples\n",
    "\n",
    "    cur.execute(consulta_sql, row)\n",
    "    conn.commit()\n",
    "\n",
    "conn.close()"
   ]
  }
 ],
 "metadata": {
  "kernelspec": {
   "display_name": "Python 3",
   "language": "python",
   "name": "python3"
  },
  "language_info": {
   "codemirror_mode": {
    "name": "ipython",
    "version": 3
   },
   "file_extension": ".py",
   "mimetype": "text/x-python",
   "name": "python",
   "nbconvert_exporter": "python",
   "pygments_lexer": "ipython3",
   "version": "3.10.0"
  }
 },
 "nbformat": 4,
 "nbformat_minor": 2
}
