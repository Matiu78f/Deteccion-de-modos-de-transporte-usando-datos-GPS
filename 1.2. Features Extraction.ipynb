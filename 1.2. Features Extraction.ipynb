{
 "cells": [
  {
   "cell_type": "code",
   "execution_count": 1,
   "metadata": {},
   "outputs": [],
   "source": [
    "import pandas as pd\n",
    "import math\n",
    "from geopy.distance import geodesic\n",
    "from Libreria.cargar_configbd import cargar_configbd\n",
    "from Libreria.cargar_mes_a_procesar import cargar_mes_a_procesar"
   ]
  },
  {
   "cell_type": "code",
   "execution_count": 2,
   "metadata": {},
   "outputs": [],
   "source": [
    "# Conectar a la base de datos PostgreSQL\n",
    "conn = cargar_configbd.conectar_base_datos('conf_bd.txt')\n",
    "cur = conn.cursor()"
   ]
  },
  {
   "cell_type": "code",
   "execution_count": 3,
   "metadata": {},
   "outputs": [
    {
     "name": "stdout",
     "output_type": "stream",
     "text": [
      "sept2023\n"
     ]
    }
   ],
   "source": [
    "mes, año = cargar_mes_a_procesar.leer_csv_en_lista('mes_a_procesar.csv')\n",
    "mes = 'sept'\n",
    "año = 2023\n",
    "print(f\"{mes}{año}\")"
   ]
  },
  {
   "cell_type": "code",
   "execution_count": 4,
   "metadata": {},
   "outputs": [],
   "source": [
    "# Obtener los ids de todos los viajes\n",
    "cur.execute(f\"SELECT DISTINCT tripid, uid FROM datos_uda_{mes}{año}\")\n",
    "# Obtener los resultados de la consulta\n",
    "rows = cur.fetchall()\n",
    "id_viajes = rows.copy()"
   ]
  },
  {
   "cell_type": "code",
   "execution_count": 5,
   "metadata": {},
   "outputs": [
    {
     "data": {
      "text/plain": [
       "13301"
      ]
     },
     "execution_count": 5,
     "metadata": {},
     "output_type": "execute_result"
    }
   ],
   "source": [
    "len(id_viajes)"
   ]
  },
  {
   "cell_type": "code",
   "execution_count": 6,
   "metadata": {},
   "outputs": [],
   "source": [
    "def calc_bearing(lat1, lon1, lat2, lon2):\n",
    "    # Convertir latitudes y longitudes a radianes\n",
    "    lat1_rad = math.radians(lat1)\n",
    "    lon1_rad = math.radians(lon1)\n",
    "    lat2_rad = math.radians(lat2)\n",
    "    lon2_rad = math.radians(lon2)\n",
    "    \n",
    "    # Calcular la diferencia de longitudes\n",
    "    delta_lon = lon2_rad - lon1_rad\n",
    "    \n",
    "    # Calcular bearing usando la fórmula de la arcotangente\n",
    "    y = math.sin(delta_lon) * math.cos(lat2_rad)\n",
    "    x = math.cos(lat1_rad) * math.sin(lat2_rad) - math.sin(lat1_rad) * math.cos(lat2_rad) * math.cos(delta_lon)\n",
    "    bearing_rad = math.atan2(y, x)\n",
    "    \n",
    "    # Convertir bearing a grados y ajustar el rango a [0, 360)\n",
    "    bearing_deg = math.degrees(bearing_rad)\n",
    "    bearing_deg = (bearing_deg + 360) % 360\n",
    "    \n",
    "    return bearing_deg"
   ]
  },
  {
   "cell_type": "code",
   "execution_count": 7,
   "metadata": {},
   "outputs": [],
   "source": [
    "# -----Agregar columnas para caracteristicas nuevas\n",
    "consulta_sql = f'''DROP TABLE IF EXISTS caracteristicas_viajes_{mes}{año};\n",
    "                  CREATE TABLE IF NOT EXISTS caracteristicas_viajes_{mes}{año}\n",
    "                    (\n",
    "                        tripid integer,\n",
    "                        uid character varying(50),\n",
    "                        latitude double precision,\n",
    "                        longitude double precision,\n",
    "                        distance double precision,\n",
    "                        speed double precision,\n",
    "                        aceleration double precision,\n",
    "                        bearing double precision,\n",
    "                        recorded_at timestamp without time zone\n",
    "                    );\n",
    "                '''\n",
    "cur.execute(consulta_sql)\n",
    "cur.execute(f\"commit\")"
   ]
  },
  {
   "cell_type": "code",
   "execution_count": 8,
   "metadata": {},
   "outputs": [
    {
     "name": "stdout",
     "output_type": "stream",
     "text": [
      "n_viajes: 33044\n",
      "Progreso: 33044\r"
     ]
    }
   ],
   "source": [
    "# --------------------Obtener caracteristicas de viajes\n",
    "print(f\"n_viajes: {len(id_viajes)}\")\n",
    "prog_anterior = 1 # En uno aun no procesa nada\n",
    "id_viajes = id_viajes[prog_anterior - 1:]\n",
    "prog = prog_anterior - 1\n",
    "for id_viaje in id_viajes:\n",
    "    prog += 1\n",
    "    print(f\"Progreso: {prog}\", end=\"\\r\")\n",
    "    \n",
    "    # Obtener los ids de todos los viajes\n",
    "    cur.execute(f\"SELECT latitude, longitude, recorded_at FROM datos_uda_{mes}{año} where tripid='{id_viaje[0]}' and uid='{id_viaje[1]}' order by recorded_at\")\n",
    "    # Obtener los resultados de la consulta\n",
    "    rows = cur.fetchall()\n",
    "    puntos_viaje = rows.copy()\n",
    "\n",
    "    # Crear un DataFrame a partir de la lista de tuplas\n",
    "    df = pd.DataFrame(puntos_viaje, columns=['latitude', 'longitude', 'recorded_at'])\n",
    "\n",
    "    # Calcular la distancia y el tiempo transcurrido entre puntos\n",
    "    for i in range(0, len(df)):\n",
    "        df.at[i, 'tripid'] = str(id_viaje[0])\n",
    "        df.at[i, 'uid'] = id_viaje[1]      \n",
    "        \n",
    "        if i > 0:\n",
    "            # Obtener las coordenadas de los puntos actual y anterior\n",
    "            lat1, lon1, rec1 = df.at[i-1, 'latitude'], df.at[i-1, 'longitude'], df.at[i-1, 'recorded_at']\n",
    "            lat2, lon2, rec2 = df.at[i, 'latitude'], df.at[i, 'longitude'], df.at[i, 'recorded_at']\n",
    "            \n",
    "            # Calcular la distancia entre los puntos actual y anterior\n",
    "            distance = geodesic((lat1, lon1), (lat2, lon2)).meters\n",
    "            df.at[i, 'distance (m)'] = distance    \n",
    "\n",
    "            # Calcular el tiempo entre los puntos actual y anterior\n",
    "            time_diff = (rec2 - rec1).total_seconds()\n",
    "            df.at[i, 'time_diff (s)'] = time_diff\n",
    "\n",
    "            # Calcular la velocidad (metros por segundo)\n",
    "            speed = 0\n",
    "            if df.at[i, 'time_diff (s)'] != 0:\n",
    "                speed = df.at[i, 'distance (m)'] / df.at[i, 'time_diff (s)']\n",
    "            df.at[i, 'speed (m/s)'] = abs(speed)\n",
    "\n",
    "            # Calcular el bearing usando la fórmula del rumbo, pertenece al punto de partida\n",
    "            df.at[i-1, 'bearing'] = calc_bearing(lat1, lon1, lat2, lon2)\n",
    "            \n",
    "            # Calcular la aceleración (metros por segundo cuadrado)\n",
    "            if i > 1:\n",
    "                # Calcular la diferencia de velocidad entre los puntos actual y anterior\n",
    "                speed_diff = df.at[i, 'speed (m/s)'] - df.at[i-1, 'speed (m/s)']\n",
    "                \n",
    "                # Calcular la aceleración\n",
    "                aceleration = speed_diff / time_diff if time_diff != 0 else 0\n",
    "                \n",
    "                # Asignar la aceleración al DataFrame\n",
    "                df.at[i, 'aceleration (m/s^2)'] = aceleration\n",
    "    \n",
    "    # Definir el nuevo orden de las columnas\n",
    "    new_columns_order = ['tripid', 'uid','latitude', 'longitude', 'distance (m)', 'speed (m/s)', 'aceleration (m/s^2)', \n",
    "                            'bearing', 'recorded_at']\n",
    "\n",
    "    # Reorganizar las columnas del DataFrame\n",
    "    df = df.reindex(columns=new_columns_order)\n",
    "    for index, row in df.iterrows():\n",
    "        consulta_sql = \"\"\"\n",
    "        INSERT INTO {} VALUES (\n",
    "            %s, %s, %s, %s, %s, %s, %s, %s, %s\n",
    "        )\n",
    "        \"\"\".format(f'caracteristicas_viajes_{mes}{año}')\n",
    "\n",
    "        # Ejecuta la consulta SQL con los valores de la fila actual\n",
    "        cur.execute(consulta_sql, tuple(row))\n",
    "    conn.commit()"
   ]
  }
 ],
 "metadata": {
  "kernelspec": {
   "display_name": "Python 3",
   "language": "python",
   "name": "python3"
  },
  "language_info": {
   "codemirror_mode": {
    "name": "ipython",
    "version": 3
   },
   "file_extension": ".py",
   "mimetype": "text/x-python",
   "name": "python",
   "nbconvert_exporter": "python",
   "pygments_lexer": "ipython3",
   "version": "3.10.0"
  }
 },
 "nbformat": 4,
 "nbformat_minor": 2
}
